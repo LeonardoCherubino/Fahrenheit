{
  "nbformat": 4,
  "nbformat_minor": 0,
  "metadata": {
    "colab": {
      "name": "Fahrenheit.ipynb",
      "provenance": [],
      "authorship_tag": "ABX9TyPZEjESt/Cx+4h+Q4Ei6d7a",
      "include_colab_link": true
    },
    "kernelspec": {
      "name": "python3",
      "display_name": "Python 3"
    },
    "language_info": {
      "name": "python"
    }
  },
  "cells": [
    {
      "cell_type": "markdown",
      "metadata": {
        "id": "view-in-github",
        "colab_type": "text"
      },
      "source": [
        "<a href=\"https://colab.research.google.com/github/LeonardoCherubino/Fahrenheit/blob/main/Fahrenheit.ipynb\" target=\"_parent\"><img src=\"https://colab.research.google.com/assets/colab-badge.svg\" alt=\"Open In Colab\"/></a>"
      ]
    },
    {
      "cell_type": "code",
      "execution_count": null,
      "metadata": {
        "id": "ZetQ1XSHw5eb"
      },
      "outputs": [],
      "source": [
        ""
      ]
    },
    {
      "cell_type": "markdown",
      "source": [
        "9. Faça um Programa que peça a temperatura em graus Fahrenheit, transforme e mostre a temperatura em graus Celsius."
      ],
      "metadata": {
        "id": "jzeRh5fiw6G9"
      }
    },
    {
      "cell_type": "code",
      "source": [
        "Fahrenheit = float(input('Entre com a temperatura em Fahrenheit. '))\n",
        "Celsius = (5 / 9) * (Fahrenheit - 32)\n",
        "print('O valor de {} Fahrenheit é {} Celsius. '.format(Fahrenheit, Celsius))"
      ],
      "metadata": {
        "colab": {
          "base_uri": "https://localhost:8080/"
        },
        "id": "eBbNjWolw7m8",
        "outputId": "efe7ac0d-448c-4823-e437-057b33cf4b04"
      },
      "execution_count": 5,
      "outputs": [
        {
          "output_type": "stream",
          "name": "stdout",
          "text": [
            "Entre com a temperatura em Fahrenheit. 63\n",
            "O valor de 63.0 Fahrenheit é 17.22222222222222 Celsius. \n"
          ]
        }
      ]
    }
  ]
}